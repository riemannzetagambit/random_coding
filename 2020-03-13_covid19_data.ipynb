{
 "cells": [
  {
   "cell_type": "markdown",
   "metadata": {},
   "source": [
    "# Attempting to estimate the time to 1M (confirmed) infections of Covid-19 in the US\n",
    "Based on CDC data and some naive curve fitting"
   ]
  },
  {
   "cell_type": "markdown",
   "metadata": {},
   "source": [
    "## Imports"
   ]
  },
  {
   "cell_type": "code",
   "execution_count": 1,
   "metadata": {},
   "outputs": [],
   "source": [
    "from datetime import datetime, timedelta\n",
    "import json\n",
    "\n",
    "from matplotlib import pyplot as plt\n",
    "%matplotlib inline\n",
    "import numpy as np\n",
    "import pandas as pd\n",
    "import requests\n",
    "from scipy.optimize import curve_fit, root_scalar\n",
    "from scipy.stats import linregress"
   ]
  },
  {
   "cell_type": "markdown",
   "metadata": {},
   "source": [
    "## Get data"
   ]
  },
  {
   "cell_type": "code",
   "execution_count": 2,
   "metadata": {},
   "outputs": [],
   "source": [
    "# had to poke around source to find this; assume it is update frequently\n",
    "cdc_covid19_url = 'https://www.cdc.gov/coronavirus/2019-ncov/us-cases-epi-chart.json'"
   ]
  },
  {
   "cell_type": "markdown",
   "metadata": {},
   "source": [
    "## Massage into pandas objects"
   ]
  },
  {
   "cell_type": "code",
   "execution_count": 3,
   "metadata": {},
   "outputs": [],
   "source": [
    "r = requests.get(cdc_covid19_url)\n",
    "js = json.loads(r.text)\n",
    "ser = pd.Series(index=js['data']['columns'][0][1:], data=map(int, js['data']['columns'][1][1:]))"
   ]
  },
  {
   "cell_type": "code",
   "execution_count": 4,
   "metadata": {},
   "outputs": [],
   "source": [
    "ser_cs = ser.cumsum()"
   ]
  },
  {
   "cell_type": "code",
   "execution_count": 5,
   "metadata": {},
   "outputs": [
    {
     "data": {
      "text/plain": [
       "<matplotlib.axes._subplots.AxesSubplot at 0x12f4d2400>"
      ]
     },
     "execution_count": 5,
     "metadata": {},
     "output_type": "execute_result"
    },
    {
     "data": {
      "image/png": "[encoded data removed]",
      "text/plain": [
       "<Figure size 432x288 with 1 Axes>"
      ]
     },
     "metadata": {
      "needs_background": "light"
     },
     "output_type": "display_data"
    }
   ],
   "source": [
    "ser_cs.plot(style='.')"
   ]
  },
  {
   "cell_type": "markdown",
   "metadata": {},
   "source": [
    "## Curve fitting"
   ]
  },
  {
   "cell_type": "markdown",
   "metadata": {},
   "source": [
    "### Pick data to fit"
   ]
  },
  {
   "cell_type": "code",
   "execution_count": 6,
   "metadata": {},
   "outputs": [],
   "source": [
    "time_delay  = 7 # don't include last 7 days-- not all cases have been reported yet\n",
    "y = ser_cs.values\n",
    "x = list(range(len(y)))\n",
    "y_trunc = y[:-time_delay+1]\n",
    "x_trunc = list(range(len(y_trunc)))"
   ]
  },
  {
   "cell_type": "markdown",
   "metadata": {},
   "source": [
    "### Fit with scipy.optimize.curve_fit for an exponential"
   ]
  },
  {
   "cell_type": "code",
   "execution_count": 7,
   "metadata": {},
   "outputs": [],
   "source": [
    "def exp_func(x, a, b, c):\n",
    "    return c + a*np.exp(b*x)"
   ]
  },
  {
   "cell_type": "code",
   "execution_count": 49,
   "metadata": {},
   "outputs": [
    {
     "name": "stderr",
     "output_type": "stream",
     "text": [
      "/Users/dstone/.virtualenvs/python3_general/lib/python3.7/site-packages/scipy/optimize/minpack.py:787: OptimizeWarning: Covariance of the parameters could not be estimated\n",
      "  category=OptimizeWarning)\n"
     ]
    }
   ],
   "source": [
    "# there is some noisiness at the start the messes with the fit-- exclude\n",
    "early_count_exclusion_days = 45\n",
    "exp_params, params_covar = curve_fit(exp_func, x_trunc[early_count_exclusion_days:], y_trunc[early_count_exclusion_days:])"
   ]
  },
  {
   "cell_type": "code",
   "execution_count": 50,
   "metadata": {},
   "outputs": [
    {
     "data": {
      "text/plain": [
       "array([ 257,  298,  359,  413,  498,  582,  681,  785,  887,  989, 1080,\n",
       "       1185, 1320, 1437, 1524, 1569])"
      ]
     },
     "execution_count": 50,
     "metadata": {},
     "output_type": "execute_result"
    }
   ],
   "source": [
    "y_trunc[early_count_exclusion_days:]"
   ]
  },
  {
   "cell_type": "code",
   "execution_count": 51,
   "metadata": {},
   "outputs": [
    {
     "data": {
      "text/plain": [
       "array([1.84011566e-14, 9.99999995e-01, 1.00000000e+00])"
      ]
     },
     "execution_count": 51,
     "metadata": {},
     "output_type": "execute_result"
    }
   ],
   "source": [
    "exp_params"
   ]
  },
  {
   "cell_type": "markdown",
   "metadata": {},
   "source": [
    "### Fit exponential to log(data)"
   ]
  },
  {
   "cell_type": "code",
   "execution_count": 52,
   "metadata": {},
   "outputs": [],
   "source": [
    "exp_lr = linregress(x_trunc[early_count_exclusion_days:], np.log(y_trunc[early_count_exclusion_days:]))"
   ]
  },
  {
   "cell_type": "markdown",
   "metadata": {},
   "source": [
    "### Fit with np.polyfit for a polynomial"
   ]
  },
  {
   "cell_type": "code",
   "execution_count": 53,
   "metadata": {},
   "outputs": [],
   "source": [
    "p = np.polyfit(x_trunc, y_trunc, 3)\n",
    "\n",
    "poly = np.poly1d(p)"
   ]
  },
  {
   "cell_type": "markdown",
   "metadata": {},
   "source": [
    "### Plot"
   ]
  },
  {
   "cell_type": "code",
   "execution_count": 54,
   "metadata": {},
   "outputs": [],
   "source": [
    "def rss(y_exp: float, y_fitted: float) -> float:\n",
    "    return np.sum(np.power(np.subtract(y_exp, y_fitted), 2))"
   ]
  },
  {
   "cell_type": "code",
   "execution_count": 62,
   "metadata": {},
   "outputs": [
    {
     "data": {
      "text/plain": [
       "<matplotlib.legend.Legend at 0x1364b2978>"
      ]
     },
     "execution_count": 62,
     "metadata": {},
     "output_type": "execute_result"
    },
    {
     "data": {
      "image/png": "[encoded data removed]",
      "text/plain": [
       "<Figure size 720x720 with 1 Axes>"
      ]
     },
     "metadata": {
      "needs_background": "light"
     },
     "output_type": "display_data"
    }
   ],
   "source": [
    "f, a = plt.subplots(figsize=(10, 10))\n",
    "\n",
    "ser_cs.plot(style='.', color='black', ax=a)\n",
    "exp_y = list(map(lambda z: exp_func(z, *exp_params), x))\n",
    "poly_y = list(map(poly, x))\n",
    "a.plot(x, exp_y, '--', color='blue', label=f'exponential fit (RSS: {rss(y, exp_y):.2f})')\n",
    "a.plot(x, poly_y, '--', color='red', label=f'polynomial fit (RSS: {rss(y, poly_y):.2f})')\n",
    "\n",
    "\n",
    "a.set_ylabel('CDC-reported onset date')\n",
    "a.set_ylabel('CDC confirmed cases')\n",
    "a.set_ylim([0, 2000])\n",
    "a.legend()"
   ]
  },
  {
   "cell_type": "code",
   "execution_count": 57,
   "metadata": {},
   "outputs": [],
   "source": [
    "# modify to predict when we hit the million mark\n",
    "def exp_func_root(x, population_mark=1e6):\n",
    "    return exp_func(x, *exp_params) - population_mark\n",
    "def poly_root(x, population_mark=1e6):\n",
    "    return poly(x) - population_mark"
   ]
  },
  {
   "cell_type": "code",
   "execution_count": 58,
   "metadata": {},
   "outputs": [],
   "source": [
    "first_case = datetime.strptime(ser[ser > 0].sort_index().index[0], \"%m/%d/%Y\")"
   ]
  },
  {
   "cell_type": "code",
   "execution_count": 59,
   "metadata": {},
   "outputs": [
    {
     "name": "stdout",
     "output_type": "stream",
     "text": [
      "Millionth case (exponential fit): 2020/2/28\n"
     ]
    }
   ],
   "source": [
    "exp_sol = root_scalar(exp_func_root, bracket=[0, 150], method='brentq')\n",
    "# translate to days\n",
    "exp_million_cases_date = first_case + timedelta(exp_sol.root)\n",
    "print(f'Millionth case (exponential fit): {exp_million_cases_date.year}/{exp_million_cases_date.month}/{exp_million_cases_date.day}')"
   ]
  },
  {
   "cell_type": "code",
   "execution_count": 60,
   "metadata": {},
   "outputs": [
    {
     "name": "stdout",
     "output_type": "stream",
     "text": [
      "Millionth case (polynomial fit): 2020/12/23\n"
     ]
    }
   ],
   "source": [
    "poly_sol = root_scalar(poly_root, bracket=[0, 500], method='brentq')\n",
    "# translate to days\n",
    "poly_million_cases_date = first_case + timedelta(poly_sol.root)\n",
    "print(f'Millionth case (polynomial fit): {poly_million_cases_date.year}/{poly_million_cases_date.month}/{poly_million_cases_date.day}')"
   ]
  },
  {
   "cell_type": "code",
   "execution_count": 61,
   "metadata": {},
   "outputs": [
    {
     "name": "stdout",
     "output_type": "stream",
     "text": [
      "Millionth case (polynomial fit): 2020/5/3\n"
     ]
    }
   ],
   "source": [
    "# log(y) = a*x+b\n",
    "# y = 1e6 -> ax+b = log(1e6)\n",
    "# -> x = (log(1e6)-b)/a\n",
    "lr_exp_sol = (np.log(1e6) - exp_lr.intercept)/exp_lr.slope\n",
    "# translate to days\n",
    "lr_exp_million_cases_date = first_case + timedelta(lr_exp_sol)\n",
    "print(f'Millionth case (polynomial fit): {lr_exp_million_cases_date.year}/{lr_exp_million_cases_date.month}/{lr_exp_million_cases_date.day}')"
   ]
  },
  {
   "cell_type": "markdown",
   "metadata": {},
   "source": [
    "## Using non cumulative data"
   ]
  },
  {
   "cell_type": "code",
   "execution_count": 21,
   "metadata": {},
   "outputs": [
    {
     "data": {
      "text/plain": [
       "<matplotlib.axes._subplots.AxesSubplot at 0x13324d7f0>"
      ]
     },
     "execution_count": 21,
     "metadata": {},
     "output_type": "execute_result"
    },
    {
     "data": {
      "image/png": "[encoded data removed]",
      "text/plain": [
       "<Figure size 720x720 with 1 Axes>"
      ]
     },
     "metadata": {
      "needs_background": "light"
     },
     "output_type": "display_data"
    }
   ],
   "source": [
    "f, a = plt.subplots(figsize=(10, 10))\n",
    "\n",
    "ser.plot(style='.', color='black', ax=a)"
   ]
  },
  {
   "cell_type": "code",
   "execution_count": null,
   "metadata": {},
   "outputs": [],
   "source": []
  }
 ],
 "metadata": {
  "kernelspec": {
   "display_name": "Python3 general",
   "language": "python",
   "name": "python3_general"
  },
  "language_info": {
   "codemirror_mode": {
    "name": "ipython",
    "version": 3
   },
   "file_extension": ".py",
   "mimetype": "text/x-python",
   "name": "python",
   "nbconvert_exporter": "python",
   "pygments_lexer": "ipython3",
   "version": "3.7.0"
  }
 },
 "nbformat": 4,
 "nbformat_minor": 2
}
